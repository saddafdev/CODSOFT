#import pandas
import pandas as pd
from sklearn.model_selection import train_test_split
from sklearn.tree import DecisionTreeClassifier
from sklearn.metrics import accuracy_score

data = pd.read_csv('tested.csv')

# Data preprocessing: Select relevant features and handle missing values
features = ['Pclass', 'Sex', 'Age', 'Fare']
target = 'Survived'

data = data[features + [target]]
data = data.dropna()  # Remove rows with missing values

# Convert categorical variables (Sex) to numerical
data['Sex'] = data['Sex'].map({'male': 0, 'female': 1})

# Split the dataset into training and testing sets
X = data[features]
y = data[target]
X_train, X_test, y_train, y_test = train_test_split(X, y, test_size=0.2, random_state=42)

# Create and train a decision tree classifier
clf = DecisionTreeClassifier(random_state=42)
clf.fit(X_train, y_train)

# Make predictions on the test set
y_pred = clf.predict(X_test)

# Calculate the accuracy of the model
accuracy = accuracy_score(y_test, y_pred)
print(f"Accuracy of the Decision Tree Classifier: {accuracy*100:.2f}%")
